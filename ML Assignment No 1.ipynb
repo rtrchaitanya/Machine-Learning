{
 "cells": [
  {
   "cell_type": "markdown",
   "id": "74f10d60",
   "metadata": {},
   "source": [
    "# 1. What does one mean by the term &quot;machine learning & quot ;?\n",
    "\n",
    "Answer : Machine learning is a way for computer programs to improve their performance on a task over time given more data."
   ]
  },
  {
   "cell_type": "markdown",
   "id": "862afef7",
   "metadata": {},
   "source": [
    "# 2. Can you think of 4 distinct types of issues where it shines?\n",
    "\n",
    "Answer : Machine learning algorithms have had good results on problems such has spam detection in email, cancer diagnosis, fraudulent credit card transactions, and automatically driving vehicles."
   ]
  },
  {
   "cell_type": "markdown",
   "id": "b75b9724",
   "metadata": {},
   "source": [
    "# 3. What is a labeled training set, and how does it work?\n",
    "\n",
    "Answer : A labeled training set is a collection of data where one of the features of the data indicates the class the training example belongs to. A labeled training set is used in supervised learning algorithms."
   ]
  },
  {
   "cell_type": "markdown",
   "id": "5ee8297d",
   "metadata": {},
   "source": [
    "# 4. What are the two most important tasks that are supervised?\n",
    "\n",
    "Answer : The two most common supervised learning tasks are regression and classification. In a regression problem we our prediciton is a scalar value. When we're trying to solve a classification problem, our output is either 1 or 0."
   ]
  },
  {
   "cell_type": "markdown",
   "id": "f1c4d8ed",
   "metadata": {},
   "source": [
    "# 5. Can you think of four examples of unsupervised tasks?\n",
    "\n",
    "Answer : Common unsupervised tasks include clustering, visualization, dimensionality reduction and association rule learning."
   ]
  },
  {
   "cell_type": "markdown",
   "id": "3116fd21",
   "metadata": {},
   "source": [
    "# 6. State the machine learning model that would be best to make a robot walk through various unfamiliar terrains?\n",
    "\n",
    "Answer : I would use a reinforcement learning approach. Reinforcement learning is a system where an \"agent\" observes the environment, selects and performs actions, then recieves a reward or punishment based on the result of the action. Over time the agent learns by itself what is the most productive strategy."
   ]
  },
  {
   "cell_type": "markdown",
   "id": "bd2db309",
   "metadata": {},
   "source": [
    "# 7. Which algorithm will you use to divide your customers into different groups?\n",
    "\n",
    "Answer : I would use some sort of clustering algorithm that can find the decision boundaries in the groups automatically. This is an unsupervised approach. However, if I already knew the categories of my customers, then I would choose a supervised approach and go with a classification algorithm."
   ]
  },
  {
   "cell_type": "markdown",
   "id": "42bc01c1",
   "metadata": {},
   "source": [
    "# 8. Would you frame the problem of spam detection as a supervised learning problem or an unsupervised learning problem?\n",
    "\n",
    "Answer : I would frame it as a supervised learning problem because humans have a general idea about what spam is and what it isn't. We can use this notion to create a labeled dataset for an algorithm to learn from."
   ]
  },
  {
   "cell_type": "markdown",
   "id": "b89dcfa6",
   "metadata": {},
   "source": [
    "# 9. What is the concept of an online learning system?\n",
    "\n",
    "Answer : An online learning system learns from new data on-the-fly. As a result, the system is trained incrementally either by using one example at a time or using a mini-batch approach. This keeps each learning step cheap and memory efficient."
   ]
  },
  {
   "cell_type": "markdown",
   "id": "87fadd83",
   "metadata": {},
   "source": [
    "# 10. What is out-of-core learning, and how does it differ from core learning\n",
    "\n",
    "Answer : Out-of-core learning is used when a dataset is too large to fit into a computer's memory. The algorithm loads part of the data, runs a training step, then repeats the process until it has run on all the data."
   ]
  },
  {
   "cell_type": "markdown",
   "id": "86adf50a",
   "metadata": {},
   "source": [
    "# 11. What kind of learning algorithm makes predictions using a similarity measure?\n",
    "\n",
    "Answer : Instance-based learning algorithms use a measure of similarity to generalize to new cases. In an instance-based learning system, the algorithm learns the examples by heart, then uses the similarity measure to generalize."
   ]
  },
  {
   "cell_type": "markdown",
   "id": "7ea98444",
   "metadata": {},
   "source": [
    "# 12. What's the difference between a model parameter and a hyperparameter in a learning algorithm?\n",
    "\n",
    "Answer : our model is parameterized by theta which is a vector of weights. In order to find the best values for theta we have a cost function which is run repeatedly by the gradient descent algorithm. Gradient descent has a hyperparameter called alpha which is the learning rate of the algorithm."
   ]
  },
  {
   "cell_type": "markdown",
   "id": "188438a4",
   "metadata": {},
   "source": [
    "# 13. What are the criteria that model-based learning algorithms look for? What is the most popular method they use to achieve success? What method do they use to make predictions?\n",
    "\n",
    "Answer : The goal for a model-based algorithm is to be able to generalize to new examples. To do this, model based algorithms search for optimal values for the model's parameters, often called theta. This searching, or \"learning\", is what machine learning is all about. Model-based system learn by minimizing a cost function that measures how bad the system is at making predicitons on new data, plus a penalty for model complexity if the model is regularized. To make a prediction, a new instance's features are fed into a hypothesis function which uses the minimized theta found by repeatedly running the cost function."
   ]
  },
  {
   "cell_type": "markdown",
   "id": "26fc989f",
   "metadata": {},
   "source": [
    "# 14. Can you name four of the most important Machine Learning challenges?\n",
    "\n",
    "Answer : \n",
    "- Not gathering enough data, or sampling noise. Sampling noise means we'll have non-representative data as a result of chance.\n",
    "\n",
    "- Using a dataset that is not representative of the cases you want to generalize to. This is called sampling bias. For example, if you want to train an algorithm with \"cat videos\", and all your videos are from YouTube, you're actually training an algorithm to learn about \"YouTube cat videos.\"\n",
    "\n",
    "- Your dataset is full of missing values, outliers, and noise (poor measurments).\n",
    "\n",
    "- The features in your dataset are irrelevant. Garbage in, garbage out.\n",
    "\n",
    " - Feature selection - choose the most relevant features from your dataset\n",
    " - Feature extraction - combine features in your dataset to generate a new, more useful feature\n",
    "\n",
    "- When your model performs well on the training data, but not on test data, you've over fit your model. Models that suffer from overfitting do not generalize well to new examples. Overfitting happens when the model is too complex relative to the amount and noisiness of the data.\n",
    "\n",
    " - Try simplyfying the model by reducing the number of features in the data or constraining the parameters by reducing the degrees of freedom.\n",
    " - Gather more training data.\n",
    " - Reduce noise in the training data by fixing errors and removing outliers.\n",
    "\n",
    "- When your model is too simple to learn the underlying structure of the data you've underfit your model.\n",
    "\n",
    " - Select a more powerful model with more parameters\n",
    " - Use feature engineering to feed better features to the model\n",
    " - Reduce the constraints of the model (increase degrees of freedom, reduce regularization parameter, etc.)"
   ]
  },
  {
   "cell_type": "markdown",
   "id": "f25bfe40",
   "metadata": {},
   "source": [
    "# 15. What happens if the model performs well on the training data but fails to generalize the results to new situations? Can you think of three different options?\n",
    "\n",
    "Answer : This is a case where the model is overfitting the training data. To couteract overfitting, we can reduce the complexity of the model by removing features or constraining the parameters. We could gather more data. Finally we can reduce noisiness in the data by fixing errors and removing outliers."
   ]
  },
  {
   "cell_type": "markdown",
   "id": "120224a8",
   "metadata": {},
   "source": [
    "# 16. What exactly is a test set, and why would you need one?\n",
    "\n",
    "Answer : When we want to know how well our model generalizes to new cases we prefer to use a test set instead of actually deploying the system. To build the test set we split the training data (50-50, 60-40, 80-20 are common splits) into a training set and test set. Our model is training with the training set. Then we use the model to run predictions on the test set. Our error rate on the test set is called the generalization error or out-of-sample error. This error tells us how well our model performs on examples it has never seen before.\n",
    "\n",
    "If the training error is low, but the generalization error is high, it means we're overfitting our model."
   ]
  },
  {
   "cell_type": "markdown",
   "id": "7b06cbbf",
   "metadata": {},
   "source": [
    "# 17. What is a validation set's purpose?\n",
    "\n",
    "Answer : Let's say we have a linear model and we want to perform some hyperparameter tuning to reduce the generalization error. One way to do this 100 different models with 100 different hyperparameter values using the training set and finding the generalization error with the test set. You find the best hyperparameter value gives you 5% generalization error.\n",
    "\n",
    "So you launch the model into production and find you're seeing 15% generalization error. This isn't going as expected. What happened?\n",
    "\n",
    "The problem is that for each iteration of hyperparameter tuning, you measured the generalization error then updated the model using the same test set. In other words, your produced the best generalization error for the test set. The test set no longer represents cases the model hasn't seen before.\n",
    "\n",
    "A common solution to this problem is to have a second holdout set called the validation set. You train multiple models with various hyperparameters using the training set, you select the model and hyperparameters that perform best on the validation set, and when you are happy about your model you run a single final test against the test set to get an estimate of the generalization error."
   ]
  },
  {
   "cell_type": "markdown",
   "id": "878a3c83",
   "metadata": {},
   "source": [
    "# 18. What precisely is the train-dev kit, when will you need it, how do you put it to use?\n",
    "\n",
    "Answer : Your model will not be generalizable to new examples."
   ]
  },
  {
   "cell_type": "markdown",
   "id": "088987b8",
   "metadata": {},
   "source": [
    "# 19. What could go wrong if you use the test set to tune hyperparameters?\n",
    "\n",
    "Answer : Cross-validation helps us compare models without wasting too much training data in the validation set."
   ]
  }
 ],
 "metadata": {
  "kernelspec": {
   "display_name": "Python 3 (ipykernel)",
   "language": "python",
   "name": "python3"
  },
  "language_info": {
   "codemirror_mode": {
    "name": "ipython",
    "version": 3
   },
   "file_extension": ".py",
   "mimetype": "text/x-python",
   "name": "python",
   "nbconvert_exporter": "python",
   "pygments_lexer": "ipython3",
   "version": "3.9.7"
  }
 },
 "nbformat": 4,
 "nbformat_minor": 5
}
